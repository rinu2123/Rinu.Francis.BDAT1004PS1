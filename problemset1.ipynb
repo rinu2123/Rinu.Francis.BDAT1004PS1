{
 "cells": [
  {
   "cell_type": "markdown",
   "id": "d60c1da7",
   "metadata": {},
   "source": [
    "#I was not able to get the correct output for the below questions in c#. \n",
    "Some operators are not working in the right expected way. Also, c# kernel is not supported in this Jupyter notebook. Therefore, writing the python code. The c# code is pasted into the notebook which comprises from question 1 to question 4 just to give an order to the arrangement of questions and output screenshots were not able to upload since it is written in c#."
   ]
  },
  {
   "cell_type": "markdown",
   "id": "cda9e91e",
   "metadata": {},
   "source": [
    "# Question 1:"
   ]
  },
  {
   "cell_type": "markdown",
   "id": "d8c50c84",
   "metadata": {},
   "source": [
    "5 - Integer\n",
    "5.0 - Float\n",
    "5 > 1 - Boolean\n",
    "'5' - string\n",
    "5 * 2 - Integer\n",
    "'5' * 2 - String\n",
    "'5' + '2' - String\n",
    "5 / 2 - Float\n",
    "5 % 2 - Integer\n",
    "{ 5, 2, 1}\n",
    "-Set\n",
    "5 == 3 - Boolean\n",
    "Pi(the number) - Float "
   ]
  },
  {
   "cell_type": "markdown",
   "id": "98fdd3a3",
   "metadata": {},
   "source": [
    "# Question 2:"
   ]
  },
  {
   "cell_type": "markdown",
   "id": "9e78cd16",
   "metadata": {},
   "source": [
    "string word = \"Supercalifragilisticexpialidocious\";\n",
    "Console.WriteLine($\"The word is: {word}\", word);\n",
    "\n",
    "#a.\n",
    "int len = word.Length;\n",
    "Console.WriteLine($\"The number of letters :{len} \", len);\n",
    "\n",
    "#b.\n",
    "class sub\n",
    "{\n",
    "    static void main(string[] args)\n",
    "    {\n",
    "        string check = \"ice\";\n",
    "        Boolean result = word.Contains(check);\n",
    "        Console.WriteLine(result); ;\n",
    "        Console.WriteLine($\"If true. then the word {check} is present in:{word}\", check, word);\n",
    "    }\n",
    "}\n",
    "\n",
    "//Reference: https://www.tutorialkart.com/\n",
    "\n",
    "\n",
    "#c.\n",
    "string new1 = \"Supercalifragilisticexpialidocious\";\n",
    "string new2 = \"Honorificabilitudinitatibus\";\n",
    "string new3 = \"Bababadalgharaghtakamminarronnkonn\";\n",
    "\n",
    "int len1 = new1.Length;\n",
    "int len2 = new2.Length;\n",
    "int len3 = new3.Length;\n",
    "if (len1 > len2 && len1 > len3)\n",
    "{\n",
    "    Console.WriteLine($\"The word {new1} is the longest\", new1);\n",
    "}\n",
    "else if (len2 > len1 && len2 > len3)\n",
    "{\n",
    "    Console.WriteLine($\"The word {new2} is the longest\", new2);\n",
    "}\n",
    "else\n",
    "{\n",
    "    Console.WriteLine($\"The word {new3} is the longest\", new3);\n",
    "}"
   ]
  },
  {
   "cell_type": "markdown",
   "id": "7aac8fcb",
   "metadata": {},
   "source": [
    "# Question 3:"
   ]
  },
  {
   "cell_type": "markdown",
   "id": "ebaaf7b4",
   "metadata": {},
   "source": [
    "using System;\n",
    "class find\n",
    "{\n",
    "    static void Main(string[] args)\n",
    "    {\n",
    "        double s, area;\n",
    "        double a, b, c;\n",
    "        a = 2;b = 2;c = 2;\n",
    "        s = (a + b + c) / 2;\n",
    "        area = Math.Sqrt(s * (s - a) * (s - b) * (s - c));\n",
    "        Console.WriteLine(\"Area of rectangle = {area}\", area);\n",
    "    }\n",
    "}"
   ]
  },
  {
   "cell_type": "markdown",
   "id": "43f63456",
   "metadata": {},
   "source": [
    "# Question 4:"
   ]
  },
  {
   "cell_type": "markdown",
   "id": "a2a866a0",
   "metadata": {},
   "source": [
    "int[] elements = new int[5]{27,45,42,56,36};\n",
    "int[] even = new int[5];\n",
    "int[] odd = new int[5];\n",
    "int[] storeeven = new int[5];\n",
    "int[] storeodd = new int[5];\n",
    "\n",
    "Console.WriteLine(\"The even elemnets are:\");\n",
    "for (int i = 0; i < 5; i++)\n",
    "{\n",
    "    if (elements[i] % 2 == 0)\n",
    "    {\n",
    "        even[i] = elements[i];\n",
    "        Console.Write(even[i] + \" \");\n",
    "    }\n",
    "}\n",
    "Console.WriteLine();\n",
    "Console.WriteLine(\"The odd elements are:\");\n",
    "for (int i = 0; i < 5; i++)\n",
    "{\n",
    "    if (elements[i] % 2 == 1)\n",
    "    {\n",
    "        odd[i] = elements[i];\n",
    "        Console.Write(odd[i] + \" \");\n",
    "    }\n",
    "}"
   ]
  },
  {
   "cell_type": "markdown",
   "id": "fe67ff3d",
   "metadata": {},
   "source": [
    "# Question 5:"
   ]
  },
  {
   "cell_type": "code",
   "execution_count": 2,
   "id": "9827e17d",
   "metadata": {},
   "outputs": [
    {
     "data": {
      "text/plain": [
       "False"
      ]
     },
     "execution_count": 2,
     "metadata": {},
     "output_type": "execute_result"
    }
   ],
   "source": [
    "#a\n",
    "def inside(x,y,x1,y1,x2,y2):\n",
    "    if (x>x1)and (x2>x)and (y>y1)and(y2>y):\n",
    "        return True\n",
    "    else:\n",
    "        return False\n",
    "inside(-1,-1,0,0,2,3)"
   ]
  },
  {
   "cell_type": "code",
   "execution_count": 3,
   "id": "261145e2",
   "metadata": {},
   "outputs": [
    {
     "name": "stdout",
     "output_type": "stream",
     "text": [
      "The point (1,1) does not lie in both \n"
     ]
    }
   ],
   "source": [
    "#b\n",
    "if inside(1,1,0.3,0.5,1.1,0.7) and inside(1,1,0.5,0.2,1.1,2):\n",
    "    print(\"The point (1,1) lies in both \")\n",
    "else:\n",
    "    print(\"The point (1,1) does not lie in both \")"
   ]
  },
  {
   "cell_type": "markdown",
   "id": "bae0eabf",
   "metadata": {},
   "source": [
    "# Question 6:"
   ]
  },
  {
   "cell_type": "code",
   "execution_count": 1,
   "id": "f3c3dc02",
   "metadata": {},
   "outputs": [
    {
     "name": "stdout",
     "output_type": "stream",
     "text": [
      "Type a word for piglatin conversion with mix of lower and uppercase: happY\n",
      "appyhay\n"
     ]
    }
   ],
   "source": [
    "#define a function pig\n",
    "i=0\n",
    "def pig(name):\n",
    "    if name.isalpha(): \n",
    "        if name[i].lower() in 'aeiou':\n",
    "            name=name.lower()+\"way\"\n",
    "            return word.lower() # to return the lowercase letters we use this function.\n",
    "        else:\n",
    "            name1=name[1:].lower()+ name[0].lower()+\"ay\"\n",
    "            return name1\n",
    "enter1=input(\"Type a word for piglatin conversion with mix of lower and uppercase: \")\n",
    "print(pig(enter1))"
   ]
  },
  {
   "cell_type": "markdown",
   "id": "3a3e1b66",
   "metadata": {},
   "source": [
    "# Question 8:"
   ]
  },
  {
   "cell_type": "code",
   "execution_count": null,
   "id": "dc133b62",
   "metadata": {},
   "outputs": [],
   "source": [
    "def curconv(currency,amount): #parameters as required.\n",
    "    file=open(r\"C:\\Users\\rinuf\\Desktop\\BDAT1004-Data Programming-Roshan Sahu\\dollarconv.txt\")\n",
    "    details=file.readlines()\n",
    "    currencies= []\n",
    "    curren= {}\n",
    "    for k in currencies:\n",
    "        curren[i[0]]=float(i[1])\n",
    "    for key,value in curren.items():#returns key value pairs of dictionary\n",
    "        if key== currency:\n",
    "            return curren[key] * amount\n",
    "\n",
    "curconv('JPY', 100)\n",
    "curconv('EUR', 100)\n",
    "\n",
    "#referred from: https://www.askpython.com/python/examples/read-data-files-in-python\n",
    "            "
   ]
  },
  {
   "cell_type": "markdown",
   "id": "4efb0226",
   "metadata": {},
   "source": [
    "# Question 9:"
   ]
  },
  {
   "cell_type": "markdown",
   "id": "91269024",
   "metadata": {},
   "source": [
    "#\n",
    "\n",
    "6 + ‘a’ - TypeError\n",
    "\n",
    "Referring to the 12th item of a list that has only 10 items - IndexOutOfRange exception\n",
    "\n",
    "Using a value that is out ofrange for a function’s input, such as calling math.sqrt(-1.0) - ValueError Exception\n",
    "\n",
    "Using an undeclared variable, such as print(x) when x has not been defined - NameError\n",
    "\n",
    "Trying to open a file that does not exist, such as mistyping the file name or looking in the wrong directory - FileNotFound"
   ]
  },
  {
   "cell_type": "markdown",
   "id": "974e1c01",
   "metadata": {},
   "source": [
    "# Question 10:"
   ]
  },
  {
   "cell_type": "code",
   "execution_count": null,
   "id": "d53ee347",
   "metadata": {},
   "outputs": [],
   "source": [
    "def frequencies(letters):\n",
    "    f={'A':0 , 'B':0, 'C':0 , 'D':0 , 'E':0, 'F':0, 'G':0, 'H':0, 'I':0, 'J':0 , 'K':0, 'L':0 , 'M':0,\n",
    "           'N':0, 'O':0, 'P':0, 'Q':0, 'R':0 , 'S':0 , 'T':0, 'U':0, 'V':0,\n",
    "            'W':0 , 'X':0 , 'Y':0 , 'Z':0}\n",
    "    n=[]\n",
    "    for l in letters:\n",
    "        for key,value in f.items():\n",
    "            if key==i.upper():\n",
    "                f[key]=f[key]+1\n",
    "    for key,value in f.items():\n",
    "        n.append(f[key])\n",
    "    return n\n",
    "  frequencies('apple') "
   ]
  }
 ],
 "metadata": {
  "kernelspec": {
   "display_name": "Python 3 (ipykernel)",
   "language": "python",
   "name": "python3"
  },
  "language_info": {
   "codemirror_mode": {
    "name": "ipython",
    "version": 3
   },
   "file_extension": ".py",
   "mimetype": "text/x-python",
   "name": "python",
   "nbconvert_exporter": "python",
   "pygments_lexer": "ipython3",
   "version": "3.9.12"
  }
 },
 "nbformat": 4,
 "nbformat_minor": 5
}
